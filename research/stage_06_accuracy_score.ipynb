{
 "cells": [
  {
   "cell_type": "code",
   "execution_count": 18,
   "metadata": {},
   "outputs": [],
   "source": [
    "import json\n",
    "from builtins import open"
   ]
  },
  {
   "cell_type": "code",
   "execution_count": 23,
   "metadata": {},
   "outputs": [],
   "source": [
    "import os "
   ]
  },
  {
   "cell_type": "code",
   "execution_count": 24,
   "metadata": {},
   "outputs": [],
   "source": [
    "os.chdir(\"../\")"
   ]
  },
  {
   "cell_type": "code",
   "execution_count": 90,
   "metadata": {},
   "outputs": [],
   "source": [
    "with open('accuracy saved\\\\anns.json', 'r') as file:\n",
    "    # Load the data from the file\n",
    "    data = json.load(file)"
   ]
  },
  {
   "cell_type": "markdown",
   "metadata": {},
   "source": [
    "For caption style 0"
   ]
  },
  {
   "cell_type": "code",
   "execution_count": 43,
   "metadata": {},
   "outputs": [],
   "source": [
    "anns=[]\n",
    "for i in range(0,100):\n",
    "   anns.append(data[i][0]['caption'])"
   ]
  },
  {
   "cell_type": "code",
   "execution_count": 66,
   "metadata": {},
   "outputs": [],
   "source": [
    "with open('accuracy saved\\caps_gen.txt', 'r') as file:\n",
    "    # Load the data from the file\n",
    "    gen_cap = file.readlines()\n"
   ]
  },
  {
   "cell_type": "markdown",
   "metadata": {},
   "source": [
    "IMporting ROugle -L score\n"
   ]
  },
  {
   "cell_type": "code",
   "execution_count": null,
   "metadata": {},
   "outputs": [],
   "source": [
    "\n",
    "gen_cap=[line.strip() for line in gen_cap]"
   ]
  },
  {
   "cell_type": "code",
   "execution_count": 76,
   "metadata": {},
   "outputs": [],
   "source": [
    "from rouge_score import rouge_scorer\n",
    "\n",
    "scorer = rouge_scorer.RougeScorer(['rouge1', 'rougeL'], use_stemmer=True)"
   ]
  },
  {
   "cell_type": "code",
   "execution_count": 82,
   "metadata": {},
   "outputs": [],
   "source": [
    "scores = []\n",
    "for gen, ann in zip(gen_cap, anns):\n",
    "    score = scorer.score(gen, ann)\n",
    "    scores.append(score)\n"
   ]
  },
  {
   "cell_type": "code",
   "execution_count": 84,
   "metadata": {},
   "outputs": [
    {
     "name": "stdout",
     "output_type": "stream",
     "text": [
      "Average ROUGE-1 F1 score: 0.40291982414404204\n",
      "Average ROUGE-L F1 score: 0.36590597822366383\n"
     ]
    }
   ],
   "source": [
    "average_rouge1 = sum(score['rouge1'].fmeasure for score in scores) / len(scores)\n",
    "average_rougeL = sum(score['rougeL'].fmeasure for score in scores) / len(scores)\n",
    "\n",
    "# Print the average ROUGE scores\n",
    "print(\"Average ROUGE-1 F1 score:\", average_rouge1)\n",
    "print(\"Average ROUGE-L F1 score:\", average_rougeL)"
   ]
  },
  {
   "cell_type": "code",
   "execution_count": 75,
   "metadata": {},
   "outputs": [
    {
     "name": "stdout",
     "output_type": "stream",
     "text": [
      "a young girl swinging a bat at a baseball game\n",
      "The young person is swinging as a ball passes over the plate.\n"
     ]
    }
   ],
   "source": [
    "\n",
    "print(gen_cap[0])\n",
    "print(anns[0])\n",
    "#result=rouge.compute(predictions=gen_cap[0],references=anns[0])\n",
    "\n",
    "\n"
   ]
  },
  {
   "cell_type": "markdown",
   "metadata": {},
   "source": [
    "For CAP 1"
   ]
  },
  {
   "cell_type": "code",
   "execution_count": 88,
   "metadata": {},
   "outputs": [],
   "source": [
    "anns=[]\n",
    "\n",
    "for i in range(0,100):\n",
    "   anns.append(data[i][1]['caption'])\n",
    "   "
   ]
  },
  {
   "cell_type": "code",
   "execution_count": 89,
   "metadata": {},
   "outputs": [
    {
     "name": "stdout",
     "output_type": "stream",
     "text": [
      "Average ROUGE-1 F1 score: 0.4182374314459972\n",
      "Average ROUGE-L F1 score: 0.38002465574560523\n"
     ]
    }
   ],
   "source": [
    "scores = []\n",
    "for gen, ann in zip(gen_cap, anns):\n",
    "    score = scorer.score(gen, ann)\n",
    "    scores.append(score)\n",
    "average_rouge1 = sum(score['rouge1'].fmeasure for score in scores) / len(scores)\n",
    "average_rougeL = sum(score['rougeL'].fmeasure for score in scores) / len(scores)\n",
    "\n",
    "# Print the average ROUGE scores\n",
    "print(\"Average ROUGE-1 F1 score:\", average_rouge1)\n",
    "print(\"Average ROUGE-L F1 score:\", average_rougeL)\n"
   ]
  },
  {
   "cell_type": "markdown",
   "metadata": {},
   "source": [
    "For cap 2"
   ]
  },
  {
   "cell_type": "code",
   "execution_count": 91,
   "metadata": {},
   "outputs": [],
   "source": [
    "anns=[]\n",
    "\n",
    "for i in range(0,100):\n",
    "   anns.append(data[i][2]['caption'])\n",
    "   "
   ]
  },
  {
   "cell_type": "code",
   "execution_count": 92,
   "metadata": {},
   "outputs": [
    {
     "name": "stdout",
     "output_type": "stream",
     "text": [
      "Average ROUGE-1 F1 score: 0.4401879978182775\n",
      "Average ROUGE-L F1 score: 0.4056892362828288\n"
     ]
    }
   ],
   "source": [
    "scores = []\n",
    "for gen, ann in zip(gen_cap, anns):\n",
    "    score = scorer.score(gen, ann)\n",
    "    scores.append(score)\n",
    "average_rouge1 = sum(score['rouge1'].fmeasure for score in scores) / len(scores)\n",
    "average_rougeL = sum(score['rougeL'].fmeasure for score in scores) / len(scores)\n",
    "\n",
    "# Print the average ROUGE scores\n",
    "print(\"Average ROUGE-1 F1 score:\", average_rouge1)\n",
    "print(\"Average ROUGE-L F1 score:\", average_rougeL)\n"
   ]
  },
  {
   "cell_type": "markdown",
   "metadata": {},
   "source": [
    "For cap 3"
   ]
  },
  {
   "cell_type": "code",
   "execution_count": 93,
   "metadata": {},
   "outputs": [
    {
     "name": "stdout",
     "output_type": "stream",
     "text": [
      "Average ROUGE-1 F1 score: 0.4401879978182775\n",
      "Average ROUGE-L F1 score: 0.4056892362828288\n"
     ]
    }
   ],
   "source": [
    "anns=[]\n",
    "\n",
    "for i in range(0,100):\n",
    "   anns.append(data[i][2]['caption'])\n",
    "scores = []\n",
    "for gen, ann in zip(gen_cap, anns):\n",
    "    score = scorer.score(gen, ann)\n",
    "    scores.append(score)\n",
    "average_rouge1 = sum(score['rouge1'].fmeasure for score in scores) / len(scores)\n",
    "average_rougeL = sum(score['rougeL'].fmeasure for score in scores) / len(scores)\n",
    "\n",
    "# Print the average ROUGE scores\n",
    "print(\"Average ROUGE-1 F1 score:\", average_rouge1)\n",
    "print(\"Average ROUGE-L F1 score:\", average_rougeL)\n"
   ]
  },
  {
   "cell_type": "markdown",
   "metadata": {},
   "source": [
    "Calculating NLTK bleau score\n"
   ]
  },
  {
   "cell_type": "markdown",
   "metadata": {},
   "source": [
    "ROUGE-2 F1-score above 0.4 is generally considered good. ROUGE-L F1-score around 0.3 to 0.4 may be considered low. ROUGE-L F1-score around 0.4 to 0.5 may be considered moderate. ROUGE-L F1-score above 0.5 is generally considered good"
   ]
  }
 ],
 "metadata": {
  "kernelspec": {
   "display_name": "Python 3",
   "language": "python",
   "name": "python3"
  },
  "language_info": {
   "codemirror_mode": {
    "name": "ipython",
    "version": 3
   },
   "file_extension": ".py",
   "mimetype": "text/x-python",
   "name": "python",
   "nbconvert_exporter": "python",
   "pygments_lexer": "ipython3",
   "version": "3.8.0"
  }
 },
 "nbformat": 4,
 "nbformat_minor": 2
}
