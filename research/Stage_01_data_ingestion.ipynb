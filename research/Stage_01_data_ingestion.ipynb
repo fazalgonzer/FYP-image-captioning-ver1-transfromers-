{
 "cells": [
  {
   "cell_type": "code",
   "execution_count": 1,
   "metadata": {},
   "outputs": [],
   "source": [
    "import os \n",
    "from pathlib import Path\n"
   ]
  },
  {
   "cell_type": "code",
   "execution_count": 2,
   "metadata": {},
   "outputs": [
    {
     "data": {
      "text/plain": [
       "'d:\\\\FYP caption Ver 1\\\\FYP-image-captioning-ver1-transfromers-\\\\research'"
      ]
     },
     "execution_count": 2,
     "metadata": {},
     "output_type": "execute_result"
    }
   ],
   "source": [
    "%pwd"
   ]
  },
  {
   "cell_type": "code",
   "execution_count": 3,
   "metadata": {},
   "outputs": [],
   "source": [
    "os.chdir(\"../\")"
   ]
  },
  {
   "cell_type": "code",
   "execution_count": 4,
   "metadata": {},
   "outputs": [
    {
     "data": {
      "text/plain": [
       "'d:\\\\FYP caption Ver 1\\\\FYP-image-captioning-ver1-transfromers-'"
      ]
     },
     "execution_count": 4,
     "metadata": {},
     "output_type": "execute_result"
    }
   ],
   "source": [
    "%pwd"
   ]
  },
  {
   "cell_type": "code",
   "execution_count": 8,
   "metadata": {},
   "outputs": [],
   "source": [
    "from dataclasses import dataclass\n",
    "from pathlib import Path\n",
    "\n",
    "\n",
    "@dataclass(frozen=True)\n",
    "class DataIngestionConfig:\n",
    "    save_path:Path\n"
   ]
  },
  {
   "cell_type": "code",
   "execution_count": 9,
   "metadata": {},
   "outputs": [],
   "source": [
    "from imagecaption.constants import * \n",
    "from imagecaption.utils.common import read_yaml , create_directories"
   ]
  },
  {
   "cell_type": "code",
   "execution_count": 10,
   "metadata": {},
   "outputs": [],
   "source": [
    "class ConfigurationManger:\n",
    "    def __init__(self,config_file_path=config_file_path,params_file_path=params_file_path):\n",
    "        self.config=read_yaml(config_file_path)\n",
    "        self.params=read_yaml(params_file_path)\n",
    "        create_directories([self.config.artifacts_root])\n",
    "\n",
    "    def get_data_ingestion(self) -> DataIngestionConfig:\n",
    "        config=self.config.data_ingestion  \n",
    "        create_directories([config.root_dir])\n",
    "\n",
    "        data_ingestion_config=DataIngestionConfig(\n",
    "            save_path= config.root_dir\n",
    "        )\n",
    "     \n",
    "        return data_ingestion_config\n"
   ]
  },
  {
   "cell_type": "code",
   "execution_count": 12,
   "metadata": {},
   "outputs": [],
   "source": [
    "import os \n",
    "import urllib.request as requset\n",
    "import zipfile\n",
    "from imagecaption.logging import logger\n",
    "from imagecaption.utils.common import get_size\n",
    "from datasets import load_dataset\n"
   ]
  },
  {
   "cell_type": "code",
   "execution_count": 17,
   "metadata": {},
   "outputs": [],
   "source": [
    "class DataIngestion:\n",
    "    def __init__(self,config:DataIngestionConfig):\n",
    "        self.config= config\n",
    "\n",
    "\n",
    "    def LoadingData(self):\n",
    "         if not os.path.exists(self.config.save_path):\n",
    "            dataset= load_dataset('poloclub/diffusiondb', '2m_first_5k')\n",
    "            dataset.save_to_disk(self.config.save_path)\n",
    "            logger.info(f\" file created at this loc -> {self.config.save_path}\")\n",
    "\n",
    "        \n",
    "            \n",
    "\n",
    "\n",
    "            "
   ]
  },
  {
   "cell_type": "code",
   "execution_count": 18,
   "metadata": {},
   "outputs": [
    {
     "name": "stdout",
     "output_type": "stream",
     "text": [
      "[2024-05-20 15:55:45,063: INFO: common:yaml file : config\\config.yaml laoded sucessfully]\n",
      "[2024-05-20 15:55:45,064: INFO: common:yaml file : params.yaml laoded sucessfully]\n",
      "[2024-05-20 15:55:45,066: INFO: common:created directory at :artifacts ]\n",
      "[2024-05-20 15:55:45,067: INFO: common:created directory at :artifacts/save_path ]\n"
     ]
    },
    {
     "name": "stderr",
     "output_type": "stream",
     "text": [
      "d:\\FYP caption Ver 1\\FYP-image-captioning-ver1-transfromers-\\FYP\\lib\\site-packages\\datasets\\load.py:1486: FutureWarning: The repository for poloclub/diffusiondb contains custom code which must be executed to correctly load the dataset. You can inspect the repository content at https://hf.co/datasets/poloclub/diffusiondb\n",
      "You can avoid this message in future by passing the argument `trust_remote_code=True`.\n",
      "Passing `trust_remote_code=True` will be mandatory to load this dataset from the next major release of `datasets`.\n",
      "  warnings.warn(\n",
      "Downloading builder script: 100%|██████████| 15.7k/15.7k [00:00<00:00, 14.7MB/s]\n",
      "Downloading readme: 100%|██████████| 25.0k/25.0k [00:00<00:00, 538kB/s]\n",
      "Downloading data: 100%|██████████| 581M/581M [04:46<00:00, 2.03MB/s]   \n",
      "Downloading data: 100%|██████████| 585M/585M [05:22<00:00, 1.81MB/s]   \n",
      "Downloading data: 100%|██████████| 643M/643M [05:27<00:00, 1.97MB/s]   \n",
      "Downloading data: 100%|██████████| 585M/585M [09:10<00:00, 1.06MB/s]   \n",
      "Downloading data: 100%|██████████| 595M/595M [06:08<00:00, 1.61MB/s]   \n",
      "Downloading data: 100%|██████████| 195M/195M [01:56<00:00, 1.67MB/s] \n",
      "Generating train split: 5000 examples [00:40, 123.62 examples/s]\n",
      "Saving the dataset (6/6 shards): 100%|██████████| 5000/5000 [02:00<00:00, 41.59 examples/s]"
     ]
    },
    {
     "name": "stdout",
     "output_type": "stream",
     "text": [
      "[2024-05-20 16:32:29,243: INFO: 1254219187: file created at this loc -> artifacts/save_path]\n"
     ]
    },
    {
     "name": "stderr",
     "output_type": "stream",
     "text": [
      "\n"
     ]
    }
   ],
   "source": [
    "try:\n",
    "    config= ConfigurationManger()\n",
    "    data_Ingestion_config=config.get_data_ingestion()\n",
    "    data_ingestion=DataIngestion(config=data_Ingestion_config)\n",
    "    data_ingestion.LoadingData()\n",
    "except Exception as e:\n",
    "    raise e"
   ]
  }
 ],
 "metadata": {
  "kernelspec": {
   "display_name": "Python 3",
   "language": "python",
   "name": "python3"
  },
  "language_info": {
   "codemirror_mode": {
    "name": "ipython",
    "version": 3
   },
   "file_extension": ".py",
   "mimetype": "text/x-python",
   "name": "python",
   "nbconvert_exporter": "python",
   "pygments_lexer": "ipython3",
   "version": "3.8.0"
  }
 },
 "nbformat": 4,
 "nbformat_minor": 2
}
