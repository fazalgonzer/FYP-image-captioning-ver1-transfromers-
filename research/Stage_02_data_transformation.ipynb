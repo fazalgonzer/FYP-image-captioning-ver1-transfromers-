{
 "cells": [
  {
   "cell_type": "code",
   "execution_count": 1,
   "metadata": {},
   "outputs": [],
   "source": [
    "import os "
   ]
  },
  {
   "cell_type": "code",
   "execution_count": 2,
   "metadata": {},
   "outputs": [
    {
     "data": {
      "text/plain": [
       "'d:\\\\FYP caption Ver 1\\\\FYP-image-captioning-ver1-transfromers-\\\\research'"
      ]
     },
     "execution_count": 2,
     "metadata": {},
     "output_type": "execute_result"
    }
   ],
   "source": [
    "%pwd"
   ]
  },
  {
   "cell_type": "code",
   "execution_count": 3,
   "metadata": {},
   "outputs": [],
   "source": [
    "os.chdir(\"../\")"
   ]
  },
  {
   "cell_type": "code",
   "execution_count": 4,
   "metadata": {},
   "outputs": [
    {
     "data": {
      "text/plain": [
       "'d:\\\\FYP caption Ver 1\\\\FYP-image-captioning-ver1-transfromers-'"
      ]
     },
     "execution_count": 4,
     "metadata": {},
     "output_type": "execute_result"
    }
   ],
   "source": [
    "%pwd "
   ]
  },
  {
   "cell_type": "code",
   "execution_count": 14,
   "metadata": {},
   "outputs": [],
   "source": [
    "from dataclasses import dataclass\n",
    "from pathlib import Path\n",
    "@dataclass\n",
    "class Data_transformation_config:\n",
    "    reading_data: Path\n",
    "    saving_data_train : Path\n",
    "    saving_data_test : Path\n",
    "    dataset_processor: str \n",
    "    "
   ]
  },
  {
   "cell_type": "code",
   "execution_count": 6,
   "metadata": {},
   "outputs": [
    {
     "name": "stderr",
     "output_type": "stream",
     "text": [
      "d:\\FYP caption Ver 1\\FYP-image-captioning-ver1-transfromers-\\FYP\\lib\\site-packages\\tqdm\\auto.py:21: TqdmWarning: IProgress not found. Please update jupyter and ipywidgets. See https://ipywidgets.readthedocs.io/en/stable/user_install.html\n",
      "  from .autonotebook import tqdm as notebook_tqdm\n"
     ]
    },
    {
     "name": "stdout",
     "output_type": "stream",
     "text": [
      "[2024-05-28 15:33:27,103: INFO: config:PyTorch version 2.3.0 available.]\n"
     ]
    }
   ],
   "source": [
    "from imagecaption.constants import *\n",
    "from imagecaption.utils.common import read_yaml, create_directories\n",
    "from datasets import load_from_disk"
   ]
  },
  {
   "cell_type": "code",
   "execution_count": 59,
   "metadata": {},
   "outputs": [],
   "source": [
    "\n",
    "class ConfigurationManger:\n",
    "    def __init__(self,config_file_path=config_file_path,params_file_path=params_file_path):\n",
    "        self.config=read_yaml(config_file_path)\n",
    "        self.params=read_yaml(params_file_path)\n",
    "        create_directories([self.config.artifacts_root])\n",
    "\n",
    "\n",
    "    def get_data_transformation(self)->Data_transformation_config:\n",
    "        config= self.config.data_transformation\n",
    "        \n",
    "   \n",
    "\n",
    "        data_transformation_config= Data_transformation_config(\n",
    "            reading_data=config.reading_data,\n",
    "            saving_data_train=config.saving_data_train,\n",
    "            saving_data_test=config.saving_data_test,\n",
    "\n",
    "            dataset_processor=self.params.TrainingArguments.model_name\n",
    "\n",
    "\n",
    "\n",
    "        )\n",
    "\n",
    "        return data_transformation_config"
   ]
  },
  {
   "cell_type": "code",
   "execution_count": 54,
   "metadata": {},
   "outputs": [],
   "source": [
    "import os \n",
    "from imagecaption.logging import logger \n",
    "from transformers import AutoProcessor\n",
    "from torch.utils.data import Dataset, DataLoader"
   ]
  },
  {
   "cell_type": "code",
   "execution_count": 55,
   "metadata": {},
   "outputs": [],
   "source": [
    "import pickle\n",
    "from io import open as io_open"
   ]
  },
  {
   "cell_type": "code",
   "execution_count": 62,
   "metadata": {},
   "outputs": [],
   "source": [
    "class ImageCaptionDataset(Dataset):\n",
    "           def __init__(self,dataset,processor):\n",
    "            self.dataset=dataset\n",
    "            self.processor=processor\n",
    "           def __len__(self):\n",
    "             return len(self.dataset)\n",
    "\n",
    "           def __getitem__(self, idx):\n",
    "                item = self.dataset[idx]\n",
    "                encoding = self.processor(images=item[\"image\"], text=item[\"prompt\"], padding=\"max_length\", return_tensors=\"pt\")\n",
    "                # Remove batch dimension\n",
    "                encoding = {k: v.squeeze() for k, v in encoding.items()}\n",
    "                return encoding"
   ]
  },
  {
   "cell_type": "code",
   "execution_count": 67,
   "metadata": {},
   "outputs": [],
   "source": [
    "class DataTransfromation():\n",
    "    def __init__(self, config:Data_transformation_config):\n",
    "         self.config=config \n",
    "    \n",
    "    def datatransfromation(self):\n",
    "       \n",
    "       processor=AutoProcessor.from_pretrained(self.config.dataset_processor)\n",
    "       dataset=load_from_disk(self.config.reading_data)\n",
    "       \n",
    "       \n",
    "\n",
    "       train_dataset=ImageCaptionDataset(dataset['train'],self.config.dataset_processor) \n",
    "\n",
    "       valid_dataset = ImageCaptionDataset(dataset['test'], valid_dataset = ImageCaptionDataset(dataset['test'], self.config.dataset_processor))\n",
    "       \n",
    "       with io_open(self.config.saving_data_train, 'wb') as  file:\n",
    "          pickle.dump(train_dataset,file) \n",
    "\n",
    "       with io_open(self.config.saving_data_test, 'wb') as  file:\n",
    "          pickle.dump(valid_dataset,file) \n",
    "\n",
    "\n",
    "        \n",
    "       \n",
    "       \n",
    "         \n",
    "         \n",
    "\n",
    "          \n",
    "        \n",
    "        "
   ]
  },
  {
   "cell_type": "code",
   "execution_count": 68,
   "metadata": {},
   "outputs": [
    {
     "name": "stdout",
     "output_type": "stream",
     "text": [
      "[2024-05-28 16:32:26,742: INFO: common:yaml file : config\\config.yaml laoded sucessfully]\n",
      "[2024-05-28 16:32:26,745: INFO: common:yaml file : params.yaml laoded sucessfully]\n",
      "[2024-05-28 16:32:26,747: INFO: common:created directory at :artifacts ]\n"
     ]
    }
   ],
   "source": [
    "try:\n",
    "    config= ConfigurationManger()\n",
    "    data_transfromation_config=config.get_data_transformation()\n",
    "    data_transfromation= DataTransfromation(config=data_transfromation_config)\n",
    "    data_transfromation.datatransfromation()\n",
    "\n",
    "except Exception as e:\n",
    "    raise e"
   ]
  },
  {
   "cell_type": "code",
   "execution_count": null,
   "metadata": {},
   "outputs": [],
   "source": []
  }
 ],
 "metadata": {
  "kernelspec": {
   "display_name": "Python 3",
   "language": "python",
   "name": "python3"
  },
  "language_info": {
   "codemirror_mode": {
    "name": "ipython",
    "version": 3
   },
   "file_extension": ".py",
   "mimetype": "text/x-python",
   "name": "python",
   "nbconvert_exporter": "python",
   "pygments_lexer": "ipython3",
   "version": "3.8.0"
  }
 },
 "nbformat": 4,
 "nbformat_minor": 2
}
